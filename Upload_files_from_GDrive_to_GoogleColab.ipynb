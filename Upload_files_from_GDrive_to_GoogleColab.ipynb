{
  "nbformat": 4,
  "nbformat_minor": 0,
  "metadata": {
    "colab": {
      "name": "Upload_files_from_GDrive_to_GoogleColab.ipynb",
      "version": "0.3.2",
      "provenance": [],
      "include_colab_link": true
    },
    "kernelspec": {
      "name": "python3",
      "display_name": "Python 3"
    }
  },
  "cells": [
    {
      "cell_type": "markdown",
      "metadata": {
        "id": "view-in-github",
        "colab_type": "text"
      },
      "source": [
        "[View in Colaboratory](https://colab.research.google.com/github/todun/googlecolab/blob/master/Upload_files_from_GDrive_to_GoogleColab.ipynb)"
      ]
    },
    {
      "metadata": {
        "id": "tvIfjO8uSGl5",
        "colab_type": "text"
      },
      "cell_type": "markdown",
      "source": [
        "# [Uploading and Using Data Files](https://stackoverflow.com/a/47335122)\n",
        "\n",
        "Get local files  from google drive to upload into Colab environment. \n",
        "\n",
        "Select file(s) using the following:"
      ]
    },
    {
      "metadata": {
        "id": "GqNkXBTpSV0J",
        "colab_type": "code",
        "colab": {}
      },
      "cell_type": "code",
      "source": [
        "from google.colab import files\n",
        "uploaded = files.upload()"
      ],
      "execution_count": 0,
      "outputs": []
    },
    {
      "metadata": {
        "id": "fCmFCNEYTGv0",
        "colab_type": "text"
      },
      "cell_type": "markdown",
      "source": [
        "## Iterate uploaded files \n",
        "\n",
        "Use the following to iterate the uploaded files in order to find their key names, using:"
      ]
    },
    {
      "metadata": {
        "id": "-EjsMmzhTfeA",
        "colab_type": "code",
        "colab": {}
      },
      "cell_type": "code",
      "source": [
        "for fn in uploaded.keys():\n",
        "  print('User uploaded file \"{name}\" with length {length} bytes'.format(name=fn, length=len(uploaded[fn])))"
      ],
      "execution_count": 0,
      "outputs": []
    },
    {
      "metadata": {
        "id": "1Sw6D6WpTsCE",
        "colab_type": "text"
      },
      "cell_type": "markdown",
      "source": [
        "## [load the contents of the file](https://stackoverflow.com/a/49226782)\n",
        "\n",
        "An example of loading contents of file into a Pandas DataFrame is shown below:\n"
      ]
    },
    {
      "metadata": {
        "id": "xDYh9tSLUZ_Q",
        "colab_type": "code",
        "colab": {}
      },
      "cell_type": "code",
      "source": [
        "import pandas as pd\n",
        "import io\n",
        "df = pd.read_csv(io.StringIO(uploaded['iris.csv'].decode('utf-8')))\n",
        "print(df)"
      ],
      "execution_count": 0,
      "outputs": []
    }
  ]
}