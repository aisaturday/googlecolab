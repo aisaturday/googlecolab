{
  "nbformat": 4,
  "nbformat_minor": 0,
  "metadata": {
    "colab": {
      "name": "mnist-tensorflow-tutorial.ipynb",
      "version": "0.3.2",
      "provenance": [],
      "collapsed_sections": [],
      "include_colab_link": true
    },
    "kernelspec": {
      "display_name": "Python 3",
      "language": "python",
      "name": "python3"
    },
    "accelerator": "GPU"
  },
  "cells": [
    {
      "cell_type": "markdown",
      "metadata": {
        "id": "view-in-github",
        "colab_type": "text"
      },
      "source": [
        "[View in Colaboratory](https://colab.research.google.com/github/todun/googlecolab/blob/master/mnist_tensorflow_tutorial.ipynb)"
      ]
    },
    {
      "metadata": {
        "id": "W3kh4WUuXuB1",
        "colab_type": "text"
      },
      "cell_type": "markdown",
      "source": [
        "# Introduction\n",
        "## May the _tensor_ flow with you...\n",
        "\n",
        "After team [*Wakanda*](https://en.wikipedia.org/wiki/Wakanda_(comics%29), I mean [Team Torch Panther](https://medium.com/ai-saturdays/aisaturdaylagos-the-torch-panther-cdec328c125b) or was it [team pytorch](pytorch.org) razzle-dazzled the [AI Saturday Lagos community](https://medium.com/ai-saturdays) with its pythonic and dynamic neural networking ways, it was time for Tensors to take center stage using high performant flows due to both tensorflow's C++ backend and lazy evaluation from its computational graph execution model.\n",
        "\n",
        "![Yoda Tensor Flows](https://memegenerator.net/img/instances/81504156/tensors-flows-from-node-to-node-they-do.jpg)\n",
        "\n",
        "To learn more of how you can flow with the tensors, keep reading to be one with the Tensorflow."
      ]
    },
    {
      "metadata": {
        "id": "0PqS5j5bXuB4",
        "colab_type": "text"
      },
      "cell_type": "markdown",
      "source": [
        "# Objectives\n",
        "\n",
        "- This Jupyter notebook would walk through how to classify handwritten digits using the [opensource Google Brain's](https://github.com/tensorflow) [tensorflow](https://www.tensorflow.org) python library.\n",
        "\n",
        "- Further, only the low level tensorflow API would be used to demonstrate how to recognize images of digits(0 through 9) with over 99% accuracy."
      ]
    },
    {
      "metadata": {
        "id": "YkT_e32dXuB6",
        "colab_type": "text"
      },
      "cell_type": "markdown",
      "source": [
        "# Install tensorflow\n",
        ">> Setup shown for [Unix](https://en.wikipedia.org/wiki/Unix) / [Linux](https://en.wikipedia.org/wiki/Linux) / [OSX](https://en.wikipedia.org/wiki/MacOS)\n",
        "\n",
        "This notebook would use the Google tensorflow python library. \n",
        "Pre-installation steps include:\n",
        "- [installing anaconda](https://www.anaconda.com)\n",
        "- installing tensorflow on your computer with anaconda: <code>conda install tensorflow</code>\n",
        "    - Optionaly install a specific version of tensorflow <code>conda install tensorflow=1.0.0</code>"
      ]
    },
    {
      "metadata": {
        "id": "jUa3A3RbXuB8",
        "colab_type": "code",
        "colab": {
          "base_uri": "https://localhost:8080/",
          "height": 581
        },
        "outputId": "61f59da2-824b-48fd-814a-21a75242cd94"
      },
      "cell_type": "code",
      "source": [
        "import tensorflow as tf\n",
        "import numpy as np\n",
        "!pip install --upgrade matplotlib\n",
        "%matplotlib inline"
      ],
      "execution_count": 0,
      "outputs": [
        {
          "output_type": "stream",
          "text": [
            "Collecting matplotlib\n",
            "  Downloading matplotlib-2.2.2-cp36-cp36m-manylinux1_x86_64.whl (12.6MB)\n",
            "\u001b[K    100% |████████████████████████████████| 12.6MB 111kB/s \n",
            "\u001b[?25hRequirement already up-to-date: pyparsing!=2.0.4,!=2.1.2,!=2.1.6,>=2.0.1 in /usr/local/lib/python3.6/dist-packages (from matplotlib)\n",
            "Collecting pytz (from matplotlib)\n",
            "  Downloading pytz-2018.3-py2.py3-none-any.whl (509kB)\n",
            "\u001b[K    100% |████████████████████████████████| 512kB 2.5MB/s \n",
            "\u001b[?25hRequirement already up-to-date: six>=1.10 in /usr/local/lib/python3.6/dist-packages (from matplotlib)\n",
            "Requirement already up-to-date: numpy>=1.7.1 in /usr/local/lib/python3.6/dist-packages (from matplotlib)\n",
            "Collecting python-dateutil>=2.1 (from matplotlib)\n",
            "  Downloading python_dateutil-2.7.0-py2.py3-none-any.whl (207kB)\n",
            "\u001b[K    100% |████████████████████████████████| 215kB 5.0MB/s \n",
            "\u001b[?25hRequirement already up-to-date: cycler>=0.10 in /usr/local/lib/python3.6/dist-packages (from matplotlib)\n",
            "Collecting kiwisolver>=1.0.1 (from matplotlib)\n",
            "  Downloading kiwisolver-1.0.1-cp36-cp36m-manylinux1_x86_64.whl (949kB)\n",
            "\u001b[K    100% |████████████████████████████████| 952kB 1.3MB/s \n",
            "\u001b[?25hCollecting setuptools (from kiwisolver>=1.0.1->matplotlib)\n",
            "  Downloading setuptools-39.0.1-py2.py3-none-any.whl (569kB)\n",
            "\u001b[K    100% |████████████████████████████████| 573kB 2.5MB/s \n",
            "\u001b[?25hInstalling collected packages: pytz, python-dateutil, setuptools, kiwisolver, matplotlib\n",
            "  Found existing installation: pytz 2016.7\n",
            "    Uninstalling pytz-2016.7:\n",
            "      Successfully uninstalled pytz-2016.7\n",
            "  Found existing installation: python-dateutil 2.5.3\n",
            "    Uninstalling python-dateutil-2.5.3:\n",
            "      Successfully uninstalled python-dateutil-2.5.3\n",
            "  Found existing installation: setuptools 36.2.7\n",
            "    Not uninstalling setuptools at /usr/lib/python3/dist-packages, outside environment /usr\n",
            "  Found existing installation: matplotlib 2.1.2\n",
            "    Uninstalling matplotlib-2.1.2:\n",
            "      Successfully uninstalled matplotlib-2.1.2\n",
            "Successfully installed kiwisolver-1.0.1 matplotlib-2.2.2 python-dateutil-2.7.0 pytz-2018.3 setuptools-39.0.1\n"
          ],
          "name": "stdout"
        }
      ]
    },
    {
      "metadata": {
        "id": "r9A2_9eyXuCB",
        "colab_type": "text"
      },
      "cell_type": "markdown",
      "source": [
        "# Setup an interactive session\n",
        "Used to yield results of the built [computational graph](https://www.tensorflow.org/programmers_guide/graphs)"
      ]
    },
    {
      "metadata": {
        "id": "ZDXJnjyqXuCC",
        "colab_type": "code",
        "colab": {}
      },
      "cell_type": "code",
      "source": [
        "sess = tf.InteractiveSession()"
      ],
      "execution_count": 0,
      "outputs": []
    },
    {
      "metadata": {
        "id": "UXOUDyYkXuCF",
        "colab_type": "text"
      },
      "cell_type": "markdown",
      "source": [
        "# Reading the [mnist](http://yann.lecun.com/exdb/mnist) data \n",
        "This is data from the Mixed National Institute of Standards and Technology representing digitized handwritten digits"
      ]
    },
    {
      "metadata": {
        "id": "O7Qj1oqoXuCG",
        "colab_type": "code",
        "colab": {
          "base_uri": "https://localhost:8080/",
          "height": 153
        },
        "outputId": "c148c317-2628-441d-e9e0-51ad25b11c14"
      },
      "cell_type": "code",
      "source": [
        "from tensorflow.examples.tutorials.mnist import input_data\n",
        "mnist = input_data.read_data_sets('MNIST_data', one_hot=True)\n",
        "width = 28 # width of the image in pixels \n",
        "height = 28 # height of the image in pixels\n",
        "flat = width * height # number of pixels in one image \n",
        "class_output = 10 # number of possible classifications for the problem\n",
        "x  = tf.placeholder(tf.float32, shape=[None, flat])\n",
        "y_ = tf.placeholder(tf.float32, shape=[None, class_output])"
      ],
      "execution_count": 0,
      "outputs": [
        {
          "output_type": "stream",
          "text": [
            "Successfully downloaded train-images-idx3-ubyte.gz 9912422 bytes.\n",
            "Extracting MNIST_data/train-images-idx3-ubyte.gz\n",
            "Successfully downloaded train-labels-idx1-ubyte.gz 28881 bytes.\n",
            "Extracting MNIST_data/train-labels-idx1-ubyte.gz\n",
            "Successfully downloaded t10k-images-idx3-ubyte.gz 1648877 bytes.\n",
            "Extracting MNIST_data/t10k-images-idx3-ubyte.gz\n",
            "Successfully downloaded t10k-labels-idx1-ubyte.gz 4542 bytes.\n",
            "Extracting MNIST_data/t10k-labels-idx1-ubyte.gz\n"
          ],
          "name": "stdout"
        }
      ]
    },
    {
      "metadata": {
        "id": "Owcn405hXuCN",
        "colab_type": "text"
      },
      "cell_type": "markdown",
      "source": [
        "# First convolution layer\n",
        "- A convolutional layer is used to extract features of the image which are represented as [tensors](https://www.tensorflow.org/programmers_guide/tensors)\n",
        "- The goal is to train weights and their biases that represents the learned important features of the images\n",
        "- Weights and biases are represented as [variables](https://www.tensorflow.org/programmers_guide/variables) in tensorflow\n",
        "- The actual convolution, [down sampling](https://www.tensorflow.org/tutorials/layers) the images, is done with [max_pool](https://www.tensorflow.org/api_docs/python/tf/nn/max_pool)\n",
        "- After the learning is complete for the first layer, the layer is then activated with an activation function.\n",
        "- Since deep learning mimics the brain, a function that models a neuronal activation/learning is used. The current scientific consensus is that is done in a [relu](https://www.tensorflow.org/api_docs/python/tf/nn/relu) like manner."
      ]
    },
    {
      "metadata": {
        "id": "h96cjxMQXuCP",
        "colab_type": "code",
        "colab": {}
      },
      "cell_type": "code",
      "source": [
        "x_image = tf.reshape(x, [-1,28,28,1]) \n",
        "W_conv1 = tf.Variable(tf.truncated_normal([5, 5, 1, 32], stddev=0.1))\n",
        "b_conv1 = tf.Variable(tf.constant(0.1, shape=[32])) # need 32 biases for 32 outputs\n",
        "convolve1= tf.nn.conv2d(x_image, W_conv1, strides=[1, 1, 1, 1], padding='SAME') + b_conv1\n",
        "h_conv1 = tf.nn.relu(convolve1)\n",
        "conv1 = tf.nn.max_pool(h_conv1, ksize=[1, 2, 2, 1], strides=[1, 2, 2, 1], padding='SAME')"
      ],
      "execution_count": 0,
      "outputs": []
    },
    {
      "metadata": {
        "id": "34kxp5dkXuCS",
        "colab_type": "text"
      },
      "cell_type": "markdown",
      "source": [
        "# Second convolution layer\n",
        "- To make our neural network get better at learning the image features, a second convolutional layer is added to aid its extraction of higher level features.\n",
        "- This is how deep learning gets its name. Additional layers make for a _deeper learning_ of the images."
      ]
    },
    {
      "metadata": {
        "id": "dtB5IzL7XuCU",
        "colab_type": "code",
        "colab": {}
      },
      "cell_type": "code",
      "source": [
        "W_conv2 = tf.Variable(tf.truncated_normal([5, 5, 32, 64], stddev=0.1))\n",
        "b_conv2 = tf.Variable(tf.constant(0.1, shape=[64])) #need 64 biases for 64 outputs\n",
        "convolve2= tf.nn.conv2d(conv1, W_conv2, strides=[1, 1, 1, 1], padding='SAME')+ b_conv2\n",
        "h_conv2 = tf.nn.relu(convolve2)\n",
        "conv2 = tf.nn.max_pool(h_conv2, ksize=[1, 2, 2, 1], strides=[1, 2, 2, 1], padding='SAME') #max_pool_2x2"
      ],
      "execution_count": 0,
      "outputs": []
    },
    {
      "metadata": {
        "id": "wrrqQXSjXuCX",
        "colab_type": "text"
      },
      "cell_type": "markdown",
      "source": [
        "# Fully connected layer\n",
        "A fully connected layer is used to integrate all the learnings of the network."
      ]
    },
    {
      "metadata": {
        "id": "g39HQeFtXuCY",
        "colab_type": "code",
        "colab": {}
      },
      "cell_type": "code",
      "source": [
        "layer2_matrix = tf.reshape(conv2, [-1, 7*7*64])\n",
        "W_fc1 = tf.Variable(tf.truncated_normal([7 * 7 * 64, 1024], stddev=0.1))\n",
        "b_fc1 = tf.Variable(tf.constant(0.1, shape=[1024])) # need 1024 biases for 1024 outputs\n",
        "fcl=tf.matmul(layer2_matrix, W_fc1) + b_fc1\n",
        "h_fc1 = tf.nn.relu(fcl)"
      ],
      "execution_count": 0,
      "outputs": []
    },
    {
      "metadata": {
        "id": "YefVyLiNXuCc",
        "colab_type": "text"
      },
      "cell_type": "markdown",
      "source": [
        "# Optional dropout layer \n",
        "- In other to prevent overfitting (.i.e. over learning), dropout is used \n",
        "- The predictions are done using the softmax function to classify the digits being feed as input images. This is actually done on the fully connected layer"
      ]
    },
    {
      "metadata": {
        "id": "rIsbsstZXuCe",
        "colab_type": "code",
        "colab": {}
      },
      "cell_type": "code",
      "source": [
        "keep_prob = tf.placeholder(tf.float32)\n",
        "layer_drop = tf.nn.dropout(h_fc1, keep_prob)\n",
        "W_fc2 = tf.Variable(tf.truncated_normal([1024, 10], stddev=0.1)) #1024 neurons\n",
        "b_fc2 = tf.Variable(tf.constant(0.1, shape=[10])) # 10 possibilities for digits [0,1,2,3,4,5,6,7,8,9]\n",
        "fc=tf.matmul(layer_drop, W_fc2) + b_fc2\n",
        "y_CNN= tf.nn.softmax(fc)"
      ],
      "execution_count": 0,
      "outputs": []
    },
    {
      "metadata": {
        "id": "MjT9sJL7XuCm",
        "colab_type": "text"
      },
      "cell_type": "markdown",
      "source": [
        "---------------"
      ]
    },
    {
      "metadata": {
        "id": "jwsIPLWAXuCp",
        "colab_type": "text"
      },
      "cell_type": "markdown",
      "source": [
        ">>NOTE: The dropout layer marks the end of our computational graph"
      ]
    },
    {
      "metadata": {
        "id": "HFJdTCxyXuCr",
        "colab_type": "text"
      },
      "cell_type": "markdown",
      "source": [
        "# Defining Loss Function and training the model\n",
        "To know how well our network is doing, we use the cross_entropy function to measure our loss between trained and actual/test(never seen by our neural network before) input data."
      ]
    },
    {
      "metadata": {
        "id": "uwuht1qlXuCy",
        "colab_type": "code",
        "colab": {
          "base_uri": "https://localhost:8080/",
          "height": 3434
        },
        "outputId": "0550993e-86b4-49db-c340-c13c79f11ec0"
      },
      "cell_type": "code",
      "source": [
        "layer4_test =[[0.9, 0.1, 0.1],[0.9, 0.1, 0.1]]\n",
        "y_test=[[1.0, 0.0, 0.0],[1.0, 0.0, 0.0]]\n",
        "np.mean( -np.sum(y_test * np.log(layer4_test),1))\n",
        "cross_entropy = tf.reduce_mean(-tf.reduce_sum(y_ * tf.log(y_CNN), reduction_indices=[1]))\n",
        "train_step = tf.train.AdamOptimizer(1e-4).minimize(cross_entropy)\n",
        "correct_prediction = tf.equal(tf.argmax(y_CNN,1), tf.argmax(y_,1))\n",
        "accuracy = tf.reduce_mean(tf.cast(correct_prediction, tf.float32))\n",
        "sess.run(tf.global_variables_initializer())\n",
        "\n",
        "num_iterations = 20000\n",
        "batch_size = 50\n",
        "for i in range(num_iterations):\n",
        "    batch = mnist.train.next_batch(batch_size)\n",
        "    if i%100 == 0:\n",
        "        train_accuracy = accuracy.eval(feed_dict={\n",
        "            x:batch[0], y_: batch[1], keep_prob: 1.0})\n",
        "        print(\"step %d, training accuracy %g\"%(i, train_accuracy))\n",
        "    train_step.run(feed_dict={x: batch[0], y_: batch[1], keep_prob: 0.5})\n",
        "\t\n",
        "print(\"test accuracy %g\"%accuracy.eval(feed_dict={x: mnist.test.images, y_: mnist.test.labels, keep_prob: 1.0}))"
      ],
      "execution_count": 0,
      "outputs": [
        {
          "output_type": "stream",
          "text": [
            "step 0, training accuracy 0.08\n",
            "step 100, training accuracy 0.88\n",
            "step 200, training accuracy 0.94\n",
            "step 300, training accuracy 0.88\n",
            "step 400, training accuracy 0.88\n",
            "step 500, training accuracy 0.96\n",
            "step 600, training accuracy 0.9\n",
            "step 700, training accuracy 0.92\n",
            "step 800, training accuracy 0.96\n",
            "step 900, training accuracy 0.98\n",
            "step 1000, training accuracy 0.94\n",
            "step 1100, training accuracy 0.98\n",
            "step 1200, training accuracy 0.98\n",
            "step 1300, training accuracy 0.96\n",
            "step 1400, training accuracy 0.96\n",
            "step 1500, training accuracy 0.94\n",
            "step 1600, training accuracy 0.98\n",
            "step 1700, training accuracy 0.88\n",
            "step 1800, training accuracy 0.96\n",
            "step 1900, training accuracy 1\n",
            "step 2000, training accuracy 1\n",
            "step 2100, training accuracy 0.98\n",
            "step 2200, training accuracy 0.98\n",
            "step 2300, training accuracy 0.98\n",
            "step 2400, training accuracy 0.98\n",
            "step 2500, training accuracy 0.98\n",
            "step 2600, training accuracy 0.98\n",
            "step 2700, training accuracy 0.94\n",
            "step 2800, training accuracy 0.98\n",
            "step 2900, training accuracy 0.98\n",
            "step 3000, training accuracy 0.96\n",
            "step 3100, training accuracy 1\n",
            "step 3200, training accuracy 1\n",
            "step 3300, training accuracy 0.96\n",
            "step 3400, training accuracy 0.94\n",
            "step 3500, training accuracy 0.96\n",
            "step 3600, training accuracy 1\n",
            "step 3700, training accuracy 0.96\n",
            "step 3800, training accuracy 0.96\n",
            "step 3900, training accuracy 0.98\n",
            "step 4000, training accuracy 0.98\n",
            "step 4100, training accuracy 0.98\n",
            "step 4200, training accuracy 1\n",
            "step 4300, training accuracy 0.96\n",
            "step 4400, training accuracy 1\n",
            "step 4500, training accuracy 1\n",
            "step 4600, training accuracy 0.98\n",
            "step 4700, training accuracy 0.98\n",
            "step 4800, training accuracy 0.96\n",
            "step 4900, training accuracy 0.94\n",
            "step 5000, training accuracy 0.98\n",
            "step 5100, training accuracy 0.96\n",
            "step 5200, training accuracy 0.98\n",
            "step 5300, training accuracy 1\n",
            "step 5400, training accuracy 1\n",
            "step 5500, training accuracy 0.96\n",
            "step 5600, training accuracy 0.98\n",
            "step 5700, training accuracy 1\n",
            "step 5800, training accuracy 1\n",
            "step 5900, training accuracy 0.98\n",
            "step 6000, training accuracy 1\n",
            "step 6100, training accuracy 1\n",
            "step 6200, training accuracy 1\n",
            "step 6300, training accuracy 1\n",
            "step 6400, training accuracy 1\n",
            "step 6500, training accuracy 0.98\n",
            "step 6600, training accuracy 0.98\n",
            "step 6700, training accuracy 1\n",
            "step 6800, training accuracy 1\n",
            "step 6900, training accuracy 1\n",
            "step 7000, training accuracy 1\n",
            "step 7100, training accuracy 1\n",
            "step 7200, training accuracy 0.98\n",
            "step 7300, training accuracy 1\n",
            "step 7400, training accuracy 1\n",
            "step 7500, training accuracy 1\n",
            "step 7600, training accuracy 0.98\n"
          ],
          "name": "stdout"
        },
        {
          "output_type": "stream",
          "text": [
            "step 7700, training accuracy 0.98\n",
            "step 7800, training accuracy 1\n",
            "step 7900, training accuracy 1\n",
            "step 8000, training accuracy 1\n",
            "step 8100, training accuracy 0.96\n",
            "step 8200, training accuracy 1\n",
            "step 8300, training accuracy 0.98\n",
            "step 8400, training accuracy 1\n",
            "step 8500, training accuracy 0.96\n",
            "step 8600, training accuracy 0.98\n",
            "step 8700, training accuracy 1\n",
            "step 8800, training accuracy 1\n",
            "step 8900, training accuracy 1\n",
            "step 9000, training accuracy 1\n",
            "step 9100, training accuracy 1\n",
            "step 9200, training accuracy 1\n",
            "step 9300, training accuracy 1\n",
            "step 9400, training accuracy 1\n",
            "step 9500, training accuracy 1\n",
            "step 9600, training accuracy 1\n",
            "step 9700, training accuracy 1\n",
            "step 9800, training accuracy 1\n",
            "step 9900, training accuracy 1\n",
            "step 10000, training accuracy 0.98\n",
            "step 10100, training accuracy 1\n",
            "step 10200, training accuracy 1\n",
            "step 10300, training accuracy 1\n",
            "step 10400, training accuracy 1\n",
            "step 10500, training accuracy 1\n",
            "step 10600, training accuracy 1\n",
            "step 10700, training accuracy 0.98\n",
            "step 10800, training accuracy 1\n",
            "step 10900, training accuracy 1\n",
            "step 11000, training accuracy 1\n",
            "step 11100, training accuracy 1\n",
            "step 11200, training accuracy 1\n",
            "step 11300, training accuracy 1\n",
            "step 11400, training accuracy 1\n",
            "step 11500, training accuracy 1\n",
            "step 11600, training accuracy 1\n",
            "step 11700, training accuracy 1\n",
            "step 11800, training accuracy 1\n",
            "step 11900, training accuracy 0.98\n",
            "step 12000, training accuracy 0.98\n",
            "step 12100, training accuracy 0.98\n",
            "step 12200, training accuracy 1\n",
            "step 12300, training accuracy 0.98\n",
            "step 12400, training accuracy 1\n",
            "step 12500, training accuracy 1\n",
            "step 12600, training accuracy 0.98\n",
            "step 12700, training accuracy 0.98\n",
            "step 12800, training accuracy 1\n",
            "step 12900, training accuracy 0.98\n",
            "step 13000, training accuracy 1\n",
            "step 13100, training accuracy 1\n",
            "step 13200, training accuracy 1\n",
            "step 13300, training accuracy 1\n",
            "step 13400, training accuracy 1\n",
            "step 13500, training accuracy 1\n",
            "step 13600, training accuracy 0.98\n",
            "step 13700, training accuracy 1\n",
            "step 13800, training accuracy 1\n",
            "step 13900, training accuracy 1\n",
            "step 14000, training accuracy 1\n",
            "step 14100, training accuracy 0.98\n",
            "step 14200, training accuracy 1\n",
            "step 14300, training accuracy 1\n",
            "step 14400, training accuracy 1\n",
            "step 14500, training accuracy 1\n",
            "step 14600, training accuracy 1\n",
            "step 14700, training accuracy 1\n",
            "step 14800, training accuracy 1\n",
            "step 14900, training accuracy 1\n",
            "step 15000, training accuracy 1\n",
            "step 15100, training accuracy 1\n",
            "step 15200, training accuracy 0.98\n",
            "step 15300, training accuracy 1\n",
            "step 15400, training accuracy 1\n"
          ],
          "name": "stdout"
        },
        {
          "output_type": "stream",
          "text": [
            "step 15500, training accuracy 1\n",
            "step 15600, training accuracy 1\n",
            "step 15700, training accuracy 1\n",
            "step 15800, training accuracy 1\n",
            "step 15900, training accuracy 1\n",
            "step 16000, training accuracy 1\n",
            "step 16100, training accuracy 1\n",
            "step 16200, training accuracy 1\n",
            "step 16300, training accuracy 0.98\n",
            "step 16400, training accuracy 1\n",
            "step 16500, training accuracy 1\n",
            "step 16600, training accuracy 1\n",
            "step 16700, training accuracy 1\n",
            "step 16800, training accuracy 0.98\n",
            "step 16900, training accuracy 1\n",
            "step 17000, training accuracy 1\n",
            "step 17100, training accuracy 1\n",
            "step 17200, training accuracy 1\n",
            "step 17300, training accuracy 0.98\n",
            "step 17400, training accuracy 1\n",
            "step 17500, training accuracy 1\n",
            "step 17600, training accuracy 1\n",
            "step 17700, training accuracy 0.98\n",
            "step 17800, training accuracy 1\n",
            "step 17900, training accuracy 1\n",
            "step 18000, training accuracy 1\n",
            "step 18100, training accuracy 1\n",
            "step 18200, training accuracy 1\n",
            "step 18300, training accuracy 1\n",
            "step 18400, training accuracy 1\n",
            "step 18500, training accuracy 1\n",
            "step 18600, training accuracy 1\n",
            "step 18700, training accuracy 1\n",
            "step 18800, training accuracy 1\n",
            "step 18900, training accuracy 1\n",
            "step 19000, training accuracy 1\n",
            "step 19100, training accuracy 1\n",
            "step 19200, training accuracy 1\n",
            "step 19300, training accuracy 1\n",
            "step 19400, training accuracy 1\n",
            "step 19500, training accuracy 1\n",
            "step 19600, training accuracy 1\n",
            "step 19700, training accuracy 1\n",
            "step 19800, training accuracy 1\n",
            "step 19900, training accuracy 1\n",
            "test accuracy 0.9923\n"
          ],
          "name": "stdout"
        }
      ]
    },
    {
      "metadata": {
        "id": "XCGOt8gFXuC4",
        "colab_type": "text"
      },
      "cell_type": "markdown",
      "source": [
        "------------------"
      ]
    },
    {
      "metadata": {
        "id": "VG7QYy4subf5",
        "colab_type": "text"
      },
      "cell_type": "markdown",
      "source": [
        "# Visualisation"
      ]
    },
    {
      "metadata": {
        "id": "JFuH1tnauhQr",
        "colab_type": "text"
      },
      "cell_type": "markdown",
      "source": [
        "# Visualisation\n",
        "\n",
        "First get the tile_raster_images [utility](http://deeplearning.net/tutorial/code/utils.py) for drawing raster images from [deeplearning](http://deeplearning.net)"
      ]
    },
    {
      "metadata": {
        "id": "YS5_f45wujdp",
        "colab_type": "code",
        "colab": {}
      },
      "cell_type": "code",
      "source": [
        "!wget --no-clobber --quiet http://deeplearning.net/tutorial/code/utils.py\n",
        "\n",
        "import utils\n",
        "from utils import tile_raster_images\n",
        "import matplotlib.pyplot as plt\n",
        "from PIL import Image"
      ],
      "execution_count": 0,
      "outputs": []
    },
    {
      "metadata": {
        "id": "tQBmaJQquovJ",
        "colab_type": "text"
      },
      "cell_type": "markdown",
      "source": [
        "[Kernels](https://en.wikipedia.org/wiki/Kernel_(image_processing%29) in image processing is a small matrix used for blurring, sharpening, embossing, edge detection, and more. This is accomplished by doing a convolution between a kernel and an image."
      ]
    },
    {
      "metadata": {
        "id": "xHrf56hTu2yo",
        "colab_type": "code",
        "colab": {}
      },
      "cell_type": "code",
      "source": [
        "kernels = sess.run(tf.reshape(tf.transpose(W_conv1, perm=[2, 3, 0,1]),[32,-1]))"
      ],
      "execution_count": 0,
      "outputs": []
    },
    {
      "metadata": {
        "id": "HVTjqy38u51M",
        "colab_type": "text"
      },
      "cell_type": "markdown",
      "source": [
        "Then plot the training accuracy"
      ]
    },
    {
      "metadata": {
        "id": "qqTPae6Nu8Ft",
        "colab_type": "code",
        "colab": {}
      },
      "cell_type": "code",
      "source": [
        "image = Image.fromarray(tile_raster_images(kernels, img_shape=(5, 5) ,tile_shape=(4, 8), tile_spacing=(1, 1)))\n",
        "plt.rcParams['figure.figsize'] = (18.0, 18.0)\n",
        "# FIXME: AttributeError: 'numpy.ndarray' object has no attribute 'mask' \n",
        "# imgplot = plt.imshow(image)\n",
        "# imgplot.set_cmap('gray')  "
      ],
      "execution_count": 0,
      "outputs": []
    },
    {
      "metadata": {
        "id": "9_sIqwOuu-Gv",
        "colab_type": "text"
      },
      "cell_type": "markdown",
      "source": [
        "-------------------------------------------------------------------"
      ]
    },
    {
      "metadata": {
        "id": "PCbS-2YAXuC5",
        "colab_type": "text"
      },
      "cell_type": "markdown",
      "source": [
        "# closing the session"
      ]
    },
    {
      "metadata": {
        "id": "PSzu_CBYXuC6",
        "colab_type": "text"
      },
      "cell_type": "markdown",
      "source": [
        "**After** the computational graph yields all its values, the session is then closed"
      ]
    },
    {
      "metadata": {
        "id": "WvYuRmeaXuC7",
        "colab_type": "code",
        "colab": {}
      },
      "cell_type": "code",
      "source": [
        "sess.close() #finish the session"
      ],
      "execution_count": 0,
      "outputs": []
    },
    {
      "metadata": {
        "id": "fF909t1qXuC9",
        "colab_type": "text"
      },
      "cell_type": "markdown",
      "source": [
        "# Challenges\n",
        "Our experience with Tensorflow was overrall positive. Some challenges and guides to overcome them include\n",
        "\n",
        "- Having exceptions dealing with misplaced shape\n",
        "<code>ValueError: Cannot feed value of shape (100, 784) for Tensor 'convolutional/X:0', which has shape '(?, 28, 28, 1)'</code>\n",
        "\n",
        "This challenge becomes more and more apparent the deeper the network. Having a deeper network (.e.g. [GoogleNet](https://www.cs.unc.edu/~wliu/papers/GoogLeNet.pdf) ) with more parameters and layers for example can lead to situations where the shapes don't match. This is excarcebated by the fact that the final result is not known until after the static computational graph is run.\n",
        "\n",
        "Building the computational graph step by step from small one layer onwards and testing continuously helped avoid this issue.\n",
        "\n",
        "- Having a non-dynamic to see results of the neural network\n",
        "\n",
        "The very speed of tensorflow comes from its lazy evaluation of a computational graph. However, when we were building the neural network and wanted to having branching logic based on various criteria(e.e.g loss, different layer performance .etc.), it was not straightforward.\n",
        "\n",
        "Tensorflow now has an API to do [control flow](https://www.tensorflow.org/api_guides/python/control_flow_ops) but it ends up not being pythonic and adds an additional layer of complexity to the neural network logic."
      ]
    },
    {
      "metadata": {
        "id": "Vu7yQLtqXuC_",
        "colab_type": "text"
      },
      "cell_type": "markdown",
      "source": [
        "# Team members\n",
        "Thanks to \n",
        "1. Ejiro, an engineering student at UNILAG for putting together the presentation.\n",
        "2. Tella Babatunde for working on neural network\n",
        "3. Ibrahim Gbadegeshin for the A+ presentation\n",
        "4. Juwe C. Raphael, Tunde Osborne for making it possible\n",
        "5. Yours truly, [Todun](https://www.linkedin.com/in/todun), with the [jupyter notebook](https://github.com/todun/deep-frameworks-explore.git) for fielding questions and aggregating our effort"
      ]
    },
    {
      "metadata": {
        "id": "Tb5sJFrGXuDB",
        "colab_type": "text"
      },
      "cell_type": "markdown",
      "source": [
        "# References\n",
        "- https://github.com/todun/deep-frameworks-explore.git\n",
        "- http://bit.ly/aisaturday_tensorflow\n"
      ]
    },
    {
      "metadata": {
        "id": "ZM0pm4rVXuDD",
        "colab_type": "code",
        "colab": {}
      },
      "cell_type": "code",
      "source": [
        ""
      ],
      "execution_count": 0,
      "outputs": []
    }
  ]
}