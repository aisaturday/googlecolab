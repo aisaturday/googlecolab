{
  "nbformat": 4,
  "nbformat_minor": 0,
  "metadata": {
    "colab": {
      "name": "Scala_on_Google_Colaboratory.ipynb",
      "version": "0.3.2",
      "provenance": [],
      "include_colab_link": true
    },
    "kernelspec": {
      "name": "python3",
      "display_name": "Python 3"
    }
  },
  "cells": [
    {
      "cell_type": "markdown",
      "metadata": {
        "id": "view-in-github",
        "colab_type": "text"
      },
      "source": [
        "[View in Colaboratory](https://colab.research.google.com/github/todun/googlecolab/blob/master/Scala_on_Google_Colaboratory.ipynb)"
      ]
    },
    {
      "metadata": {
        "id": "gf1_OxCD4565",
        "colab_type": "text"
      },
      "cell_type": "markdown",
      "source": [
        "# Install Scala "
      ]
    },
    {
      "metadata": {
        "id": "TCqjNql65ANY",
        "colab_type": "code",
        "colab": {}
      },
      "cell_type": "code",
      "source": [
        "!apt-get update && apt-get upgrade && apt-get install scala"
      ],
      "execution_count": 0,
      "outputs": []
    }
  ]
}