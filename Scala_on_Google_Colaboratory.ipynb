{
  "nbformat": 4,
  "nbformat_minor": 0,
  "metadata": {
    "colab": {
      "name": "Scala_on_Google_Colaboratory.ipynb",
      "version": "0.3.2",
      "provenance": [],
      "include_colab_link": true
    },
    "kernelspec": {
      "name": "python3",
      "display_name": "Python 3"
    },
    "accelerator": "GPU"
  },
  "cells": [
    {
      "cell_type": "markdown",
      "metadata": {
        "id": "view-in-github",
        "colab_type": "text"
      },
      "source": [
        "[View in Colaboratory](https://colab.research.google.com/github/todun/googlecolab/blob/master/Scala_on_Google_Colaboratory.ipynb)"
      ]
    },
    {
      "metadata": {
        "id": "gf1_OxCD4565",
        "colab_type": "text"
      },
      "cell_type": "markdown",
      "source": [
        "# Update & Upgrade Google colab\n",
        "The VM is a debian linux box and the ampersand can be used(if line is prefixed with bang operator) to update and upgrade the VM"
      ]
    },
    {
      "metadata": {
        "id": "sPTsrFUQ6feC",
        "colab_type": "code",
        "colab": {
          "base_uri": "https://localhost:8080/",
          "height": 952
        },
        "outputId": "808b915a-6529-402b-8599-40ffe272bf24"
      },
      "cell_type": "code",
      "source": [
        "!apt-get update && apt-get upgrade"
      ],
      "execution_count": 1,
      "outputs": [
        {
          "output_type": "stream",
          "text": [
            "Get:1 http://security.ubuntu.com/ubuntu artful-security InRelease [83.2 kB]\n",
            "Hit:2 http://archive.ubuntu.com/ubuntu artful InRelease\n",
            "Get:3 http://archive.ubuntu.com/ubuntu artful-updates InRelease [88.7 kB]\n",
            "Get:4 http://archive.ubuntu.com/ubuntu artful-backports InRelease [74.6 kB]\n",
            "Get:5 http://security.ubuntu.com/ubuntu artful-security/multiverse amd64 Packages [1,817 B]\n",
            "Get:6 http://archive.ubuntu.com/ubuntu artful-updates/universe amd64 Packages [154 kB]\n",
            "Get:7 http://archive.ubuntu.com/ubuntu artful-updates/multiverse amd64 Packages [4,373 B]\n",
            "Get:8 http://archive.ubuntu.com/ubuntu artful-updates/main amd64 Packages [376 kB]\n",
            "Fetched 783 kB in 1s (477 kB/s)\n",
            "Reading package lists... Done\n",
            "Reading package lists... Done\n",
            "Building dependency tree       \n",
            "Reading state information... Done\n",
            "Calculating upgrade... Done\n",
            "The following packages will be upgraded:\n",
            "  gnupg gnupg-agent gpgv libapt-pkg5.0 libgcrypt20 libsystemd0 libudev1\n",
            "7 upgraded, 0 newly installed, 0 to remove and 0 not upgraded.\n",
            "Need to get 2,664 kB of archives.\n",
            "After this operation, 0 B of additional disk space will be used.\n",
            "Get:1 http://archive.ubuntu.com/ubuntu artful-updates/main amd64 libsystemd0 amd64 234-2ubuntu12.4 [209 kB]\n",
            "Get:2 http://archive.ubuntu.com/ubuntu artful-updates/main amd64 libgcrypt20 amd64 1.7.8-2ubuntu1.1 [400 kB]\n",
            "Get:3 http://archive.ubuntu.com/ubuntu artful-updates/main amd64 libudev1 amd64 234-2ubuntu12.4 [52.4 kB]\n",
            "Get:4 http://archive.ubuntu.com/ubuntu artful-updates/main amd64 gpgv amd64 2.1.15-1ubuntu8.1 [187 kB]\n",
            "Get:5 http://archive.ubuntu.com/ubuntu artful-updates/main amd64 libapt-pkg5.0 amd64 1.5.2 [780 kB]\n",
            "Get:6 http://archive.ubuntu.com/ubuntu artful-updates/main amd64 gnupg amd64 2.1.15-1ubuntu8.1 [780 kB]\n",
            "Get:7 http://archive.ubuntu.com/ubuntu artful-updates/main amd64 gnupg-agent amd64 2.1.15-1ubuntu8.1 [255 kB]\n",
            "Fetched 2,664 kB in 1s (1,980 kB/s)\n",
            "(Reading database ... 18891 files and directories currently installed.)\n",
            "Preparing to unpack .../libsystemd0_234-2ubuntu12.4_amd64.deb ...\n",
            "Unpacking libsystemd0:amd64 (234-2ubuntu12.4) over (234-2ubuntu12.3) ...\n",
            "Setting up libsystemd0:amd64 (234-2ubuntu12.4) ...\n",
            "(Reading database ... 18891 files and directories currently installed.)\n",
            "Preparing to unpack .../libgcrypt20_1.7.8-2ubuntu1.1_amd64.deb ...\n",
            "Unpacking libgcrypt20:amd64 (1.7.8-2ubuntu1.1) over (1.7.8-2ubuntu1) ...\n",
            "Setting up libgcrypt20:amd64 (1.7.8-2ubuntu1.1) ...\n",
            "(Reading database ... 18891 files and directories currently installed.)\n",
            "Preparing to unpack .../libudev1_234-2ubuntu12.4_amd64.deb ...\n",
            "Unpacking libudev1:amd64 (234-2ubuntu12.4) over (234-2ubuntu12.3) ...\n",
            "Setting up libudev1:amd64 (234-2ubuntu12.4) ...\n",
            "(Reading database ... 18891 files and directories currently installed.)\n",
            "Preparing to unpack .../gpgv_2.1.15-1ubuntu8.1_amd64.deb ...\n",
            "Unpacking gpgv (2.1.15-1ubuntu8.1) over (2.1.15-1ubuntu8) ...\n",
            "Setting up gpgv (2.1.15-1ubuntu8.1) ...\n",
            "(Reading database ... 18891 files and directories currently installed.)\n",
            "Preparing to unpack .../libapt-pkg5.0_1.5.2_amd64.deb ...\n",
            "Unpacking libapt-pkg5.0:amd64 (1.5.2) over (1.5.1) ...\n",
            "Setting up libapt-pkg5.0:amd64 (1.5.2) ...\n",
            "(Reading database ... 18891 files and directories currently installed.)\n",
            "Preparing to unpack .../gnupg_2.1.15-1ubuntu8.1_amd64.deb ...\n",
            "Unpacking gnupg (2.1.15-1ubuntu8.1) over (2.1.15-1ubuntu8) ...\n",
            "Preparing to unpack .../gnupg-agent_2.1.15-1ubuntu8.1_amd64.deb ...\n",
            "Unpacking gnupg-agent (2.1.15-1ubuntu8.1) over (2.1.15-1ubuntu8) ...\n",
            "Processing triggers for libc-bin (2.26-0ubuntu2.1) ...\n",
            "Setting up gnupg-agent (2.1.15-1ubuntu8.1) ...\n",
            "Setting up gnupg (2.1.15-1ubuntu8.1) ...\n"
          ],
          "name": "stdout"
        }
      ]
    },
    {
      "metadata": {
        "id": "SrSqFXW069BS",
        "colab_type": "text"
      },
      "cell_type": "markdown",
      "source": [
        "# Install Scala\n",
        "The scala package can be installed with apt-get"
      ]
    },
    {
      "metadata": {
        "id": "TCqjNql65ANY",
        "colab_type": "code",
        "colab": {
          "base_uri": "https://localhost:8080/",
          "height": 986
        },
        "outputId": "673a66b5-6512-4aa5-d6c5-6cb0f2f76d1c"
      },
      "cell_type": "code",
      "source": [
        "!apt-get install scala"
      ],
      "execution_count": 2,
      "outputs": [
        {
          "output_type": "stream",
          "text": [
            "Reading package lists... Done\n",
            "Building dependency tree       \n",
            "Reading state information... Done\n",
            "The following additional packages will be installed:\n",
            "  libhawtjni-runtime-java libjansi-java libjansi-native-java libjline2-java\n",
            "  scala-library scala-parser-combinators scala-xml\n",
            "Suggested packages:\n",
            "  scala-doc\n",
            "The following NEW packages will be installed:\n",
            "  libhawtjni-runtime-java libjansi-java libjansi-native-java libjline2-java\n",
            "  scala scala-library scala-parser-combinators scala-xml\n",
            "0 upgraded, 8 newly installed, 0 to remove and 0 not upgraded.\n",
            "Need to get 24.9 MB of archives.\n",
            "After this operation, 28.5 MB of additional disk space will be used.\n",
            "Get:1 http://archive.ubuntu.com/ubuntu artful/universe amd64 libhawtjni-runtime-java all 1.15-2 [27.1 kB]\n",
            "Get:2 http://archive.ubuntu.com/ubuntu artful/universe amd64 libjansi-native-java all 1.7-1 [19.4 kB]\n",
            "Get:3 http://archive.ubuntu.com/ubuntu artful/universe amd64 libjansi-java all 1.16-1 [36.2 kB]\n",
            "Get:4 http://archive.ubuntu.com/ubuntu artful/universe amd64 libjline2-java all 2.11-4 [107 kB]\n",
            "Get:5 http://archive.ubuntu.com/ubuntu artful/universe amd64 scala-library all 2.11.8-2 [9,539 kB]\n",
            "Get:6 http://archive.ubuntu.com/ubuntu artful/universe amd64 scala-parser-combinators all 1.0.3-3 [355 kB]\n",
            "Get:7 http://archive.ubuntu.com/ubuntu artful/universe amd64 scala-xml all 1.0.3-3 [601 kB]\n",
            "Get:8 http://archive.ubuntu.com/ubuntu artful/universe amd64 scala all 2.11.8-2 [14.2 MB]\n",
            "Fetched 24.9 MB in 2s (11.5 MB/s)\n",
            "Selecting previously unselected package libhawtjni-runtime-java.\n",
            "(Reading database ... 18891 files and directories currently installed.)\n",
            "Preparing to unpack .../0-libhawtjni-runtime-java_1.15-2_all.deb ...\n",
            "Unpacking libhawtjni-runtime-java (1.15-2) ...\n",
            "Selecting previously unselected package libjansi-native-java.\n",
            "Preparing to unpack .../1-libjansi-native-java_1.7-1_all.deb ...\n",
            "Unpacking libjansi-native-java (1.7-1) ...\n",
            "Selecting previously unselected package libjansi-java.\n",
            "Preparing to unpack .../2-libjansi-java_1.16-1_all.deb ...\n",
            "Unpacking libjansi-java (1.16-1) ...\n",
            "Selecting previously unselected package libjline2-java.\n",
            "Preparing to unpack .../3-libjline2-java_2.11-4_all.deb ...\n",
            "Unpacking libjline2-java (2.11-4) ...\n",
            "Selecting previously unselected package scala-library.\n",
            "Preparing to unpack .../4-scala-library_2.11.8-2_all.deb ...\n",
            "Unpacking scala-library (2.11.8-2) ...\n",
            "Selecting previously unselected package scala-parser-combinators.\n",
            "Preparing to unpack .../5-scala-parser-combinators_1.0.3-3_all.deb ...\n",
            "Unpacking scala-parser-combinators (1.0.3-3) ...\n",
            "Selecting previously unselected package scala-xml.\n",
            "Preparing to unpack .../6-scala-xml_1.0.3-3_all.deb ...\n",
            "Unpacking scala-xml (1.0.3-3) ...\n",
            "Selecting previously unselected package scala.\n",
            "Preparing to unpack .../7-scala_2.11.8-2_all.deb ...\n",
            "Unpacking scala (2.11.8-2) ...\n",
            "Setting up scala-parser-combinators (1.0.3-3) ...\n",
            "Setting up libhawtjni-runtime-java (1.15-2) ...\n",
            "Setting up scala-library (2.11.8-2) ...\n",
            "Setting up scala-xml (1.0.3-3) ...\n",
            "Setting up libjansi-native-java (1.7-1) ...\n",
            "Setting up libjansi-java (1.16-1) ...\n",
            "Setting up libjline2-java (2.11-4) ...\n",
            "Setting up scala (2.11.8-2) ...\n",
            "update-alternatives: using /usr/share/scala-2.11/bin/scala to provide /usr/bin/scala (scala) in auto mode\n"
          ],
          "name": "stdout"
        }
      ]
    },
    {
      "metadata": {
        "id": "jMuAkUsp6FlS",
        "colab_type": "text"
      },
      "cell_type": "markdown",
      "source": [
        "# Search for a package\n",
        "In debian linux distro, search for a package in google colab\n",
        "!apt-cache search <package-name>"
      ]
    },
    {
      "metadata": {
        "id": "VxKA56ed6R8m",
        "colab_type": "code",
        "colab": {
          "base_uri": "https://localhost:8080/",
          "height": 51
        },
        "outputId": "5d54c5b5-0e09-49f1-8c66-0a26ac1620df"
      },
      "cell_type": "code",
      "source": [
        "!apt-cache search protobuf-compiler"
      ],
      "execution_count": 4,
      "outputs": [
        {
          "output_type": "stream",
          "text": [
            "protobuf-compiler - compiler for protocol buffer definition files\n",
            "protobuf-compiler-grpc - high performance general RPC framework - protobuf plugin\n"
          ],
          "name": "stdout"
        }
      ]
    },
    {
      "metadata": {
        "id": "SbxP_YGT7s60",
        "colab_type": "text"
      },
      "cell_type": "markdown",
      "source": [
        "# Install Protocol Buffers Compiler\n",
        "TensorFlow for Scala also requires protoc, the Protocol Buffers compiler, to be installed. You also have two options for dealing with this requirement:"
      ]
    },
    {
      "metadata": {
        "id": "zFSyy6xx7oI7",
        "colab_type": "code",
        "colab": {
          "base_uri": "https://localhost:8080/",
          "height": 510
        },
        "outputId": "87a9d207-6d37-4b54-cafb-ba732d785994"
      },
      "cell_type": "code",
      "source": [
        "!apt-get install protobuf-compiler"
      ],
      "execution_count": 6,
      "outputs": [
        {
          "output_type": "stream",
          "text": [
            "Reading package lists... Done\n",
            "Building dependency tree       \n",
            "Reading state information... Done\n",
            "The following additional packages will be installed:\n",
            "  libprotobuf10 libprotoc10\n",
            "The following NEW packages will be installed:\n",
            "  libprotobuf10 libprotoc10 protobuf-compiler\n",
            "0 upgraded, 3 newly installed, 0 to remove and 0 not upgraded.\n",
            "Need to get 1,239 kB of archives.\n",
            "After this operation, 4,935 kB of additional disk space will be used.\n",
            "Get:1 http://archive.ubuntu.com/ubuntu artful/main amd64 libprotobuf10 amd64 3.0.0-9ubuntu5 [650 kB]\n",
            "Get:2 http://archive.ubuntu.com/ubuntu artful/main amd64 libprotoc10 amd64 3.0.0-9ubuntu5 [565 kB]\n",
            "Get:3 http://archive.ubuntu.com/ubuntu artful/main amd64 protobuf-compiler amd64 3.0.0-9ubuntu5 [24.5 kB]\n",
            "Fetched 1,239 kB in 1s (1,108 kB/s)\n",
            "Selecting previously unselected package libprotobuf10:amd64.\n",
            "(Reading database ... 19057 files and directories currently installed.)\n",
            "Preparing to unpack .../libprotobuf10_3.0.0-9ubuntu5_amd64.deb ...\n",
            "Unpacking libprotobuf10:amd64 (3.0.0-9ubuntu5) ...\n",
            "Selecting previously unselected package libprotoc10:amd64.\n",
            "Preparing to unpack .../libprotoc10_3.0.0-9ubuntu5_amd64.deb ...\n",
            "Unpacking libprotoc10:amd64 (3.0.0-9ubuntu5) ...\n",
            "Selecting previously unselected package protobuf-compiler.\n",
            "Preparing to unpack .../protobuf-compiler_3.0.0-9ubuntu5_amd64.deb ...\n",
            "Unpacking protobuf-compiler (3.0.0-9ubuntu5) ...\n",
            "Setting up libprotobuf10:amd64 (3.0.0-9ubuntu5) ...\n",
            "Processing triggers for libc-bin (2.26-0ubuntu2.1) ...\n",
            "Setting up libprotoc10:amd64 (3.0.0-9ubuntu5) ...\n",
            "Setting up protobuf-compiler (3.0.0-9ubuntu5) ...\n",
            "Processing triggers for libc-bin (2.26-0ubuntu2.1) ...\n"
          ],
          "name": "stdout"
        }
      ]
    },
    {
      "metadata": {
        "id": "0pqRK_YG72Bb",
        "colab_type": "code",
        "colab": {}
      },
      "cell_type": "code",
      "source": [
        ""
      ],
      "execution_count": 0,
      "outputs": []
    }
  ]
}