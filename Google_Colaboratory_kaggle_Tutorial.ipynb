{
  "nbformat": 4,
  "nbformat_minor": 0,
  "metadata": {
    "colab": {
      "name": "Google_Colaboratory_kaggle_Tutorial.ipynb",
      "version": "0.3.2",
      "provenance": [],
      "collapsed_sections": [],
      "toc_visible": true,
      "include_colab_link": true
    },
    "kernelspec": {
      "name": "python3",
      "display_name": "Python 3"
    },
    "accelerator": "GPU"
  },
  "cells": [
    {
      "cell_type": "markdown",
      "metadata": {
        "id": "view-in-github",
        "colab_type": "text"
      },
      "source": [
        "[View in Colaboratory](https://colab.research.google.com/github/todun/googlecolab/blob/master/Google_Colaboratory_kaggle_Tutorial.ipynb)"
      ]
    },
    {
      "metadata": {
        "id": "sNG51yPyOGdC",
        "colab_type": "text"
      },
      "cell_type": "markdown",
      "source": [
        "# [Tutorial on Using Google Colab for Kaggle Competition](https://medium.com/@burakteke/tutorial-on-using-google-colab-for-kaggle-competition-620393c22821)\n",
        "\n"
      ]
    },
    {
      "metadata": {
        "id": "GsItzP26Hcrq",
        "colab_type": "text"
      },
      "cell_type": "markdown",
      "source": [
        "# About\n",
        "\n",
        "show how to setup a project for a kaggle competition"
      ]
    },
    {
      "metadata": {
        "id": "N9xuS5f3Hn-9",
        "colab_type": "text"
      },
      "cell_type": "markdown",
      "source": [
        "# 1. Setup file system\n",
        "\n",
        "this ensures that even if the colab is disconnected, user doesn't have to restart"
      ]
    },
    {
      "metadata": {
        "id": "t50JkC6aIzx5",
        "colab_type": "text"
      },
      "cell_type": "markdown",
      "source": [
        "### setup connection between colab and google drive\n",
        "* NOTE that this needs to be setup once\n",
        "* NOTE that the auth tokens need to be entered during the prompts"
      ]
    },
    {
      "metadata": {
        "id": "Llc6mI0aPk_U",
        "colab_type": "text"
      },
      "cell_type": "markdown",
      "source": [
        "##### [Install a Drive FUSE wrapper](https://github.com/astrada/google-drive-ocamlfuse)"
      ]
    },
    {
      "metadata": {
        "id": "0FjcrUKDNwSn",
        "colab_type": "code",
        "colab": {}
      },
      "cell_type": "code",
      "source": [
        "!apt-get install -y -qq software-properties-common python-software-properties module-init-tools\n",
        "!add-apt-repository -y ppa:alessandro-strada/ppa 2>&1 > /dev/null\n",
        "!apt-get update -qq 2>&1 > /dev/null\n",
        "!apt-get -y install -qq google-drive-ocamlfuse fuse"
      ],
      "execution_count": 0,
      "outputs": []
    },
    {
      "metadata": {
        "id": "3w31AOmcPs7f",
        "colab_type": "text"
      },
      "cell_type": "markdown",
      "source": [
        "##### Generate auth tokens for Colab"
      ]
    },
    {
      "metadata": {
        "id": "7ikraXipN3ZK",
        "colab_type": "code",
        "colab": {}
      },
      "cell_type": "code",
      "source": [
        "from google.colab import auth\n",
        "auth.authenticate_user()"
      ],
      "execution_count": 0,
      "outputs": []
    },
    {
      "metadata": {
        "id": "REgl7s5-Px9O",
        "colab_type": "text"
      },
      "cell_type": "markdown",
      "source": [
        "##### Generate creds for the Drive FUSE library."
      ]
    },
    {
      "metadata": {
        "id": "aa91sNq2N35w",
        "colab_type": "code",
        "colab": {}
      },
      "cell_type": "code",
      "source": [
        "from oauth2client.client import GoogleCredentials\n",
        "creds = GoogleCredentials.get_application_default()\n",
        "import getpass\n",
        "!google-drive-ocamlfuse -headless -id={creds.client_id} -secret={creds.client_secret} < /dev/null 2>&1 | grep URL\n",
        "vcode = getpass.getpass()\n",
        "!echo {vcode} | google-drive-ocamlfuse -headless -id={creds.client_id} -secret={creds.client_secret}"
      ],
      "execution_count": 0,
      "outputs": []
    },
    {
      "metadata": {
        "id": "nSthJRjGJOc3",
        "colab_type": "text"
      },
      "cell_type": "markdown",
      "source": [
        "### Create colab reference to google drive\n",
        "\n",
        "* The name of the fodler represents the name google colab uses to reference the root of the associated google drive \n",
        "\n",
        "* the folder is mounted in the home directory of google colab"
      ]
    },
    {
      "metadata": {
        "id": "q54eNOHmP0pS",
        "colab_type": "text"
      },
      "cell_type": "markdown",
      "source": [
        "##### Create a directory and mount Google Drive using that directory."
      ]
    },
    {
      "metadata": {
        "id": "9Y8YK3XuN5tP",
        "colab_type": "code",
        "colab": {}
      },
      "cell_type": "code",
      "source": [
        "!mkdir -p my_tut_drive\n",
        "!google-drive-ocamlfuse my_tut_drive"
      ],
      "execution_count": 0,
      "outputs": []
    },
    {
      "metadata": {
        "id": "nnXsz0DaKdP7",
        "colab_type": "text"
      },
      "cell_type": "markdown",
      "source": [
        "### setup competition folder"
      ]
    },
    {
      "metadata": {
        "id": "928-fYs8P6DD",
        "colab_type": "text"
      },
      "cell_type": "markdown",
      "source": [
        "##### Create folder for competition data & AI"
      ]
    },
    {
      "metadata": {
        "id": "bp-ATGV-N7Nf",
        "colab_type": "code",
        "colab": {}
      },
      "cell_type": "code",
      "source": [
        "!mkdir /content/my_tut_drive/kaggle-acoustic-scene-2018"
      ],
      "execution_count": 0,
      "outputs": []
    },
    {
      "metadata": {
        "id": "Kqssp_eTBIdF",
        "colab_type": "text"
      },
      "cell_type": "markdown",
      "source": [
        "##### check your related drive folder exist or not."
      ]
    },
    {
      "metadata": {
        "id": "a0bap0iB6GAI",
        "colab_type": "code",
        "colab": {}
      },
      "cell_type": "code",
      "source": [
        "!ls /content/my_tut_drive/"
      ],
      "execution_count": 0,
      "outputs": []
    },
    {
      "metadata": {
        "id": "gDZOuNUmIPMa",
        "colab_type": "text"
      },
      "cell_type": "markdown",
      "source": [
        "# 2. Link to kaggle\n",
        "\n",
        "Use the Kaggle CLI to get the competition dataset"
      ]
    },
    {
      "metadata": {
        "id": "C16JjOi-jQpr",
        "colab_type": "text"
      },
      "cell_type": "markdown",
      "source": [
        "##### install kaggle"
      ]
    },
    {
      "metadata": {
        "id": "3zLFyFK7jMzP",
        "colab_type": "code",
        "colab": {}
      },
      "cell_type": "code",
      "source": [
        "!pip install kaggle-cli"
      ],
      "execution_count": 0,
      "outputs": []
    },
    {
      "metadata": {
        "id": "shUEu0ajjUqt",
        "colab_type": "text"
      },
      "cell_type": "markdown",
      "source": [
        "##### download dataset from kaggle\n",
        "Use your own kaggle *USER_NAME* and *PASSWORD*"
      ]
    },
    {
      "metadata": {
        "id": "w04gknTTja61",
        "colab_type": "code",
        "colab": {}
      },
      "cell_type": "code",
      "source": [
        "!kg download -u <USER_NAME> -p <PASSWORD> -c acoustic-scene-2018"
      ],
      "execution_count": 0,
      "outputs": []
    },
    {
      "metadata": {
        "id": "9gCDsLHBkHKn",
        "colab_type": "text"
      },
      "cell_type": "markdown",
      "source": [
        "##### move kaggle data into gdrive data folder\n",
        "\n",
        "uploaded all of the competiton data from kaggle to mounted g-drive folder “tut_kaggle”"
      ]
    },
    {
      "metadata": {
        "id": "Uo5s8nGhkNLH",
        "colab_type": "code",
        "colab": {}
      },
      "cell_type": "code",
      "source": [
        "!mv X_train.npy X_test.npy y_train.csv meta_train.csv crossvalidation_train.csv /content/my_tut_drive/kaggle-acoustic-scene-2018"
      ],
      "execution_count": 0,
      "outputs": []
    },
    {
      "metadata": {
        "id": "--5BGDxGmhNB",
        "colab_type": "text"
      },
      "cell_type": "markdown",
      "source": [
        "##### verify data folder contents"
      ]
    },
    {
      "metadata": {
        "id": "-HEwgZ1qmlSU",
        "colab_type": "code",
        "colab": {}
      },
      "cell_type": "code",
      "source": [
        "!ls /content/my_tut_drive/kaggle-acoustic-scene-2018"
      ],
      "execution_count": 0,
      "outputs": []
    },
    {
      "metadata": {
        "id": "zK_TwjLfIbNn",
        "colab_type": "text"
      },
      "cell_type": "markdown",
      "source": [
        "# 3. Setup machine learning"
      ]
    },
    {
      "metadata": {
        "id": "-9MQPb2wcXX5",
        "colab_type": "text"
      },
      "cell_type": "markdown",
      "source": [
        "##### [Download and move classifier folder/files into created GDrive folder](https://medium.freecodecamp.org/how-to-transfer-large-files-to-google-colab-and-remote-jupyter-notebooks-26ca252892fa)\n",
        "Use github for file transfer"
      ]
    },
    {
      "metadata": {
        "id": "nBea-XVadrGP",
        "colab_type": "code",
        "colab": {}
      },
      "cell_type": "code",
      "source": [
        "!pip install -q xlrd\n",
        "!git clone https://github.com/aisaturday/tut_kaggle.git\n",
        "!mv ./tut_kaggle/* /content/my_tut_drive/kaggle-acoustic-scene-2018\n",
        "!rm -rf ./tut_kaggle"
      ],
      "execution_count": 0,
      "outputs": []
    },
    {
      "metadata": {
        "id": "4LtNkagofTx3",
        "colab_type": "code",
        "colab": {}
      },
      "cell_type": "code",
      "source": [
        "!ls /content/my_tut_drive/kaggle-acoustic-scene-2018"
      ],
      "execution_count": 0,
      "outputs": []
    },
    {
      "metadata": {
        "id": "G0ON-kXffP1o",
        "colab_type": "text"
      },
      "cell_type": "markdown",
      "source": [
        "#### check that downloaded and moved folder is present\n"
      ]
    },
    {
      "metadata": {
        "id": "fcP_D7HDP96C",
        "colab_type": "text"
      },
      "cell_type": "markdown",
      "source": [
        "##### Run the colab_test.py"
      ]
    },
    {
      "metadata": {
        "id": "uI7mvtH4N9on",
        "colab_type": "code",
        "colab": {}
      },
      "cell_type": "code",
      "source": [
        "!python3 ~/my_tut_drive/kaggle-acoustic-scene-2018/colab_test.py"
      ],
      "execution_count": 0,
      "outputs": []
    },
    {
      "metadata": {
        "id": "w28_Urm_OBTQ",
        "colab_type": "code",
        "colab": {}
      },
      "cell_type": "code",
      "source": [
        "import tensorflow as tf\n",
        "tf.test.gpu_device_name()"
      ],
      "execution_count": 0,
      "outputs": []
    },
    {
      "metadata": {
        "id": "WzScSBiz7QXX",
        "colab_type": "code",
        "colab": {}
      },
      "cell_type": "code",
      "source": [
        "!pip install -q keras"
      ],
      "execution_count": 0,
      "outputs": []
    },
    {
      "metadata": {
        "id": "-HPUs4CR6qX4",
        "colab_type": "code",
        "colab": {}
      },
      "cell_type": "code",
      "source": [
        "!pip install tensorflow-gpu"
      ],
      "execution_count": 0,
      "outputs": []
    },
    {
      "metadata": {
        "id": "2R_dXe-NQB-L",
        "colab_type": "text"
      },
      "cell_type": "markdown",
      "source": [
        "##### Run to classify and to create the submission file"
      ]
    },
    {
      "metadata": {
        "id": "wA3JfCRIOCsY",
        "colab_type": "code",
        "colab": {}
      },
      "cell_type": "code",
      "source": [
        "!python3 /content/my_tut_drive/kaggle-acoustic-scene-2018/SVM_with_rbf_kernel.py"
      ],
      "execution_count": 0,
      "outputs": []
    },
    {
      "metadata": {
        "id": "yXfbfpSmyr5z",
        "colab_type": "code",
        "colab": {}
      },
      "cell_type": "code",
      "source": [
        "!cat /content/my_tut_drive/kaggle-acoustic-scene-2018/submission.csv"
      ],
      "execution_count": 0,
      "outputs": []
    },
    {
      "metadata": {
        "id": "ifjCKJSOSlIH",
        "colab_type": "text"
      },
      "cell_type": "markdown",
      "source": [
        "# 4. [Submit the Result to the Kaggle](https://www.kaggle.com/c/acoustic-scene-2018/)\n",
        "\n",
        "Use the Kaggle CLI to make submissions\n"
      ]
    },
    {
      "metadata": {
        "id": "8DiCRhgiHLnG",
        "colab_type": "text"
      },
      "cell_type": "markdown",
      "source": [
        "##### view previous submissions\n",
        "Use your own kaggle *USER_NAME* and *PASSWORD*"
      ]
    },
    {
      "metadata": {
        "id": "kwIBx9o35JHG",
        "colab_type": "code",
        "colab": {}
      },
      "cell_type": "code",
      "source": [
        "!kg submissions -c acoustic-scene-2018 -u <USER_NAME> -p <PASSWORD>"
      ],
      "execution_count": 0,
      "outputs": []
    },
    {
      "metadata": {
        "id": "WKmpMVI8HOgu",
        "colab_type": "text"
      },
      "cell_type": "markdown",
      "source": [
        "##### make submission to kaggle\n",
        "\n",
        "Use your own kaggle *USER_NAME* and *PASSWORD*"
      ]
    },
    {
      "metadata": {
        "id": "las1qlir1ymm",
        "colab_type": "code",
        "colab": {}
      },
      "cell_type": "code",
      "source": [
        "!kg  submit /content/my_tut_drive/kaggle-acoustic-scene-2018/submission.csv -c acoustic-scene-2018 -u <USER_NAME> -p <PASSWORD>  -m \"test submission\" "
      ],
      "execution_count": 0,
      "outputs": []
    }
  ]
}